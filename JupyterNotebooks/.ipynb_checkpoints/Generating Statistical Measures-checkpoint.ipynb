{
 "cells": [
  {
   "cell_type": "markdown",
   "id": "bc614bd9",
   "metadata": {},
   "source": [
    "## Investing factors influencing route choice from Connected Car Data"
   ]
  },
  {
   "cell_type": "markdown",
   "id": "3bcde5eb",
   "metadata": {},
   "source": [
    "                                    Generating Key Statistical Measures"
   ]
  },
  {
   "cell_type": "code",
   "execution_count": 1,
   "id": "c4d444f7",
   "metadata": {},
   "outputs": [],
   "source": [
    "#Scikit Mobility Library\n",
    "import skmob\n",
    "from skmob import preprocessing\n",
    "from skmob.preprocessing import detection, clustering\n",
    "from skmob.preprocessing import compression\n",
    "\n",
    "#Datashader Library\n",
    "#import datashader as ds, pandas as pd, colorcet as cc\n",
    "# from datashader import transfer_functions as tf\n",
    "# from datashader.colors import Hot\n",
    "# from datashader.utils import export_image\n",
    "\n",
    "#Dask & Flask_sqlalchemy libraries\n",
    "# import dask\n",
    "# import sqlalchemy\n",
    "\n",
    "\n",
    "#Other ancillary Libraries\n",
    "import pandas as pd\n",
    "import numpy as np\n",
    "import seaborn as sns\n",
    "import seaborn; seaborn.set()\n",
    "import matplotlib.pyplot as plt\n",
    "import matplotlib.cm as cm\n",
    "plt.style.use('ggplot')\n",
    "import geopandas as gpd\n",
    "import pyarrow\n",
    "import pyodbc\n",
    "import webbrowser\n",
    "import glob\n",
    "import os\n",
    "\n",
    "import warnings\n",
    "warnings.filterwarnings('ignore')"
   ]
  },
  {
   "cell_type": "code",
   "execution_count": 3,
   "id": "9ef3fedd",
   "metadata": {},
   "outputs": [
    {
     "name": "stdout",
     "output_type": "stream",
     "text": [
      "The watermark extension is already loaded. To reload it, use:\n",
      "  %reload_ext watermark\n"
     ]
    }
   ],
   "source": [
    "%load_ext watermark"
   ]
  },
  {
   "cell_type": "code",
   "execution_count": 4,
   "id": "fc1e9a21",
   "metadata": {},
   "outputs": [
    {
     "name": "stdout",
     "output_type": "stream",
     "text": [
      "Last updated: 2023-03-22T13:18:37.328031+00:00\n",
      "\n",
      "Python implementation: CPython\n",
      "Python version       : 3.10.8\n",
      "IPython version      : 8.7.0\n",
      "\n",
      "Compiler    : MSC v.1929 64 bit (AMD64)\n",
      "OS          : Windows\n",
      "Release     : 10\n",
      "Machine     : AMD64\n",
      "Processor   : Intel64 Family 6 Model 106 Stepping 6, GenuineIntel\n",
      "CPU cores   : 8\n",
      "Architecture: 64bit\n",
      "\n"
     ]
    }
   ],
   "source": [
    "%watermark"
   ]
  },
  {
   "cell_type": "code",
   "execution_count": 5,
   "id": "7e29b043",
   "metadata": {},
   "outputs": [
    {
     "name": "stdout",
     "output_type": "stream",
     "text": [
      "geopandas : 0.12.2\n",
      "numpy     : 1.23.5\n",
      "skmob     : 1.3.1\n",
      "seaborn   : 0.12.1\n",
      "matplotlib: 3.6.2\n",
      "pyarrow   : 10.0.1\n",
      "pyodbc    : 4.0.35\n",
      "pandas    : 1.5.2\n",
      "\n"
     ]
    }
   ],
   "source": [
    "%watermark --iversions"
   ]
  },
  {
   "cell_type": "markdown",
   "id": "2044a2eb",
   "metadata": {},
   "source": [
    "---"
   ]
  },
  {
   "cell_type": "markdown",
   "id": "30d19256",
   "metadata": {},
   "source": [
    "### Set up Connection to database from notebook"
   ]
  },
  {
   "cell_type": "markdown",
   "id": "2c9edd75",
   "metadata": {},
   "source": [
    "### Connect to Database using Dask\n"
   ]
  },
  {
   "cell_type": "markdown",
   "id": "997a812e",
   "metadata": {},
   "source": [
    "First creat client which allows user to moniter process of task"
   ]
  },
  {
   "cell_type": "markdown",
   "id": "424f7c16",
   "metadata": {},
   "source": [
    "**Retrive** Data using Dask "
   ]
  },
  {
   "cell_type": "code",
   "execution_count": 150,
   "id": "1b1aa0d4",
   "metadata": {
    "scrolled": false
   },
   "outputs": [],
   "source": [
    "# from dask.distributed import Client\n",
    "\n",
    "# client = Client(n_workers=4, threads_per_worker=4)\n",
    "\n",
    "# client"
   ]
  },
  {
   "cell_type": "code",
   "execution_count": 125,
   "id": "73e703bc",
   "metadata": {},
   "outputs": [],
   "source": [
    "# import dask.dataframe as dd"
   ]
  },
  {
   "cell_type": "code",
   "execution_count": 131,
   "id": "034e71ea",
   "metadata": {
    "scrolled": true
   },
   "outputs": [],
   "source": [
    "# ddf = dd.read_sql_table(\n",
    "#    table_name =\"trajectories_processed\", \n",
    "#    con = \"mssql+pyodbc:///?odbc_connect=DRIVER={ODBC Driver 17 for SQL Server}; SERVER=; DATABASE=; UID=; AUTHENTICATION=\", \n",
    "#    index_col=\"journeyKey\"\n",
    "# )"
   ]
  },
  {
   "cell_type": "markdown",
   "id": "be84988e",
   "metadata": {},
   "source": [
    "### Visualise Entire Dataset"
   ]
  },
  {
   "cell_type": "markdown",
   "id": "02683eaf",
   "metadata": {},
   "source": [
    "Using Datashader "
   ]
  },
  {
   "cell_type": "code",
   "execution_count": 132,
   "id": "1111537d",
   "metadata": {
    "scrolled": true
   },
   "outputs": [],
   "source": [
    "# %%time\n",
    "# S = dd.read_parquet(\"AllTrip_trajectory.parquet\", engine='pyarrow')"
   ]
  },
  {
   "cell_type": "code",
   "execution_count": 64,
   "id": "de85c905",
   "metadata": {
    "scrolled": true
   },
   "outputs": [],
   "source": [
    "# agg = ds.Canvas(plot_width=500, plot_height=900).points(S4,'longitude', 'latitude')"
   ]
  },
  {
   "cell_type": "code",
   "execution_count": 1,
   "id": "f28fbda5",
   "metadata": {
    "scrolled": true
   },
   "outputs": [],
   "source": [
    "ds.tf.set_background(ds.tf.shade(agg, cmap=cc.rainbow), \"white\" )"
   ]
  },
  {
   "cell_type": "markdown",
   "id": "d4a54324",
   "metadata": {},
   "source": [
    "### Connect Notebook to SQL\n"
   ]
  },
  {
   "cell_type": "markdown",
   "id": "a50b0273",
   "metadata": {},
   "source": [
    "**Retrive** Data in batches from SQL, Connection to SQL"
   ]
  },
  {
   "cell_type": "code",
   "execution_count": 2,
   "id": "89bb9443",
   "metadata": {},
   "outputs": [],
   "source": [
    "con = \"mssql+pyodbc:///?odbc_connect=DRIVER={ODBC Driver 17 for SQL Server}; SERVER=; DATABASE=; UID=; AUTHENTICATION=\" "
   ]
  },
  {
   "cell_type": "markdown",
   "id": "2753fe10",
   "metadata": {},
   "source": [
    "###### Read in data in batches (smaller sizes) in order to work with pandas and scikit mobility"
   ]
  },
  {
   "cell_type": "code",
   "execution_count": 2,
   "id": "62bcf97a",
   "metadata": {},
   "outputs": [],
   "source": [
    "# batch_size = 90398\n",
    "# batch_start = 1740413\n",
    "# batch_end = batch_start + batch_size\n",
    "# while batch_end<= 1830811:\n",
    "#     df = pd.read_sql(f\"SELECT * FROM trajectories_processed where journeyKey between {batch_start} and {batch_end}\", con)\n",
    "#     df.to_parquet(f\"batch_{batch_start}_{batch_end}.parquet\", engine=\"pyarrow\", compression=\"snappy\")\n",
    "    \n",
    "#     batch_start = batch_end + 1\n",
    "#     batch_end = batch_start + batch_size"
   ]
  },
  {
   "cell_type": "markdown",
   "id": "b2aadb3d",
   "metadata": {},
   "source": [
    "### Read in batched file for analysis"
   ]
  },
  {
   "cell_type": "code",
   "execution_count": 2,
   "id": "99277f22",
   "metadata": {},
   "outputs": [
    {
     "name": "stdout",
     "output_type": "stream",
     "text": [
      "CPU times: total: 9.11 s\n",
      "Wall time: 7.54 s\n"
     ]
    }
   ],
   "source": [
    "%%time\n",
    "S2 = pd.read_parquet(\"batch_1740413_1830811.parquet\", engine='pyarrow')"
   ]
  },
  {
   "cell_type": "markdown",
   "id": "6a3c678d",
   "metadata": {},
   "source": [
    "#### Explore & Clean Data"
   ]
  },
  {
   "cell_type": "code",
   "execution_count": 3,
   "id": "6cccc294",
   "metadata": {},
   "outputs": [
    {
     "name": "stdout",
     "output_type": "stream",
     "text": [
      "<class 'pandas.core.frame.DataFrame'>\n",
      "RangeIndex: 22776333 entries, 0 to 22776332\n",
      "Data columns (total 9 columns):\n",
      " #   Column            Dtype         \n",
      "---  ------            -----         \n",
      " 0   dataPointKey      int64         \n",
      " 1   journeyKey        int64         \n",
      " 2   capturedDatetime  datetime64[ns]\n",
      " 3   latitude          float64       \n",
      " 4   longitude         float64       \n",
      " 5   geohash           object        \n",
      " 6   countryCode       object        \n",
      " 7   speed             float64       \n",
      " 8   heading           float64       \n",
      "dtypes: datetime64[ns](1), float64(4), int64(2), object(2)\n",
      "memory usage: 1.5+ GB\n"
     ]
    }
   ],
   "source": [
    "S2.info()"
   ]
  },
  {
   "cell_type": "markdown",
   "id": "62a3f7f9",
   "metadata": {},
   "source": [
    "###### Grouping and sorting data"
   ]
  },
  {
   "cell_type": "code",
   "execution_count": 4,
   "id": "f2cfd32d",
   "metadata": {},
   "outputs": [
    {
     "name": "stdout",
     "output_type": "stream",
     "text": [
      "CPU times: total: 0 ns\n",
      "Wall time: 1 ms\n"
     ]
    },
    {
     "data": {
      "text/plain": [
       "<pandas.core.groupby.generic.DataFrameGroupBy object at 0x00000298AC9193F0>"
      ]
     },
     "execution_count": 4,
     "metadata": {},
     "output_type": "execute_result"
    }
   ],
   "source": [
    "%%time\n",
    "S2.groupby(by = ['journeyKey','capturedDatetime'])"
   ]
  },
  {
   "cell_type": "code",
   "execution_count": 1,
   "id": "8e7889f7",
   "metadata": {},
   "outputs": [],
   "source": [
    "S3= S2.sort_values(by = ['journeyKey','capturedDatetime'])\n",
    "S3.head()"
   ]
  },
  {
   "cell_type": "markdown",
   "id": "a1847b7f",
   "metadata": {},
   "source": [
    "### Create Scikit mobility dataframe, change headings, create 'uid' in order to use scikit mobility functions"
   ]
  },
  {
   "cell_type": "markdown",
   "id": "0a5cf302",
   "metadata": {},
   "source": [
    "In pandas I used .ngroup() to create UID's in dask .cumcount() does this."
   ]
  },
  {
   "cell_type": "code",
   "execution_count": 6,
   "id": "5a3ecee3",
   "metadata": {},
   "outputs": [],
   "source": [
    "S3.drop(['countryCode'],axis=1, inplace=True)"
   ]
  },
  {
   "cell_type": "code",
   "execution_count": 7,
   "id": "d860bb80",
   "metadata": {
    "scrolled": false
   },
   "outputs": [
    {
     "name": "stdout",
     "output_type": "stream",
     "text": [
      "CPU times: total: 1.03 s\n",
      "Wall time: 1.04 s\n"
     ]
    }
   ],
   "source": [
    "%%time\n",
    "S3['uid'] = S3.groupby(by='journeyKey').ngroup()"
   ]
  },
  {
   "cell_type": "markdown",
   "id": "64d5ca0f",
   "metadata": {},
   "source": [
    "Rename Columns allowing Scikit-Mobility dataframe to work the way it should"
   ]
  },
  {
   "cell_type": "code",
   "execution_count": 8,
   "id": "adfb6c2f",
   "metadata": {},
   "outputs": [
    {
     "name": "stdout",
     "output_type": "stream",
     "text": [
      "CPU times: total: 766 ms\n",
      "Wall time: 776 ms\n"
     ]
    }
   ],
   "source": [
    "%%time\n",
    "S4 = S3.rename(columns={'journeyKey':'tid', 'capturedDatetime':'datetime','latitude':'lat','longitude':'lng','geohash':'geohash','speed':'speed','heading':'vehicledirection','uid':'uid'})"
   ]
  },
  {
   "cell_type": "code",
   "execution_count": 2,
   "id": "e0936c45",
   "metadata": {},
   "outputs": [],
   "source": [
    "S4.head()"
   ]
  },
  {
   "cell_type": "markdown",
   "id": "3bbc367f",
   "metadata": {},
   "source": [
    "# Descriptive Statistics\n",
    "\n",
    "Here I seek to understand how human mobility. How long are their movements, how much time is spent in travel, where and how long are their stops  etc partly based on literature below"
   ]
  },
  {
   "cell_type": "markdown",
   "id": "6dba9ee3",
   "metadata": {},
   "source": [
    "<font color='Purple'>\n",
    "\n",
    "- Human mobility is charaterised by a high degree of predicatability (Eagle and Pentland 2009; Song et al. 2010)\n",
    "\n",
    "- A high tendancy to spend lots of time in a few locations (Song et al. 2010)\n",
    "\n",
    "- A propensity to visit specific locations at specific time (Jiang et al. 2012; Rinzivillo et al. 2014)</font>"
   ]
  },
  {
   "cell_type": "markdown",
   "id": "31cae155",
   "metadata": {},
   "source": [
    "                                    GENERATING KEY STATISTICAL MEASURES"
   ]
  },
  {
   "cell_type": "markdown",
   "id": "cdcf47ef",
   "metadata": {},
   "source": [
    "## 1. Distance Traveled\n",
    "\n",
    "- Always convert to Skmob dataframe before using scikit mobility functions\n",
    "- Straight Line distance (**Kilometers**) \n",
    "\n",
    "#### What Scikit-Mobility Function is doing - **It summing the geographic distance between consecutive points** \n",
    "\n",
    "Result - **<font color=\"Green\">Total Distance travel on a journey</font>**\n"
   ]
  },
  {
   "cell_type": "code",
   "execution_count": 10,
   "id": "9ed61e0f",
   "metadata": {},
   "outputs": [],
   "source": [
    "from skmob.measures.individual import distance_straight_line"
   ]
  },
  {
   "cell_type": "code",
   "execution_count": 11,
   "id": "73a6421a",
   "metadata": {},
   "outputs": [
    {
     "name": "stdout",
     "output_type": "stream",
     "text": [
      "CPU times: total: 18.3 s\n",
      "Wall time: 18.3 s\n"
     ]
    }
   ],
   "source": [
    "%%time\n",
    "SL = skmob.TrajDataFrame(S4, latitude='lat', longitude='lng', datetime='datetime', user_id='uid').sort_values(by=['uid','datetime'])"
   ]
  },
  {
   "cell_type": "code",
   "execution_count": 12,
   "id": "9c49d3c0",
   "metadata": {
    "scrolled": true
   },
   "outputs": [
    {
     "name": "stderr",
     "output_type": "stream",
     "text": [
      "100%|███████████████████████████████████████████████████████████████████████| 90399/90399 [03:34<00:00, 421.87it/s]"
     ]
    },
    {
     "name": "stdout",
     "output_type": "stream",
     "text": [
      "CPU times: total: 3min 34s\n",
      "Wall time: 3min 34s\n"
     ]
    },
    {
     "name": "stderr",
     "output_type": "stream",
     "text": [
      "\n"
     ]
    }
   ],
   "source": [
    "%%time\n",
    "M = distance_straight_line(SL)"
   ]
  },
  {
   "cell_type": "markdown",
   "id": "9d124e05",
   "metadata": {},
   "source": [
    "Distance Travelled - Wall time: 5min 48s"
   ]
  },
  {
   "cell_type": "code",
   "execution_count": 3,
   "id": "6c380a70",
   "metadata": {},
   "outputs": [],
   "source": [
    "M.head()"
   ]
  },
  {
   "cell_type": "code",
   "execution_count": 14,
   "id": "4f19b1c6",
   "metadata": {},
   "outputs": [],
   "source": [
    "S5 = S4.merge(M, on='uid', how='left')"
   ]
  },
  {
   "cell_type": "code",
   "execution_count": 15,
   "id": "9bdfb237",
   "metadata": {},
   "outputs": [],
   "source": [
    "S6 = S5[['tid', 'distance_straight_line']].drop_duplicates()"
   ]
  },
  {
   "cell_type": "code",
   "execution_count": 183,
   "id": "0b8c6310",
   "metadata": {},
   "outputs": [],
   "source": [
    "S6.head(2)"
   ]
  },
  {
   "cell_type": "markdown",
   "id": "1ffa39fb",
   "metadata": {},
   "source": [
    "#### Identifying Start Times"
   ]
  },
  {
   "cell_type": "code",
   "execution_count": 17,
   "id": "4f2fba1d",
   "metadata": {},
   "outputs": [
    {
     "name": "stdout",
     "output_type": "stream",
     "text": [
      "CPU times: total: 406 ms\n",
      "Wall time: 416 ms\n"
     ]
    }
   ],
   "source": [
    "%%time\n",
    "Fis = S4.groupby('tid')['datetime'].first()"
   ]
  },
  {
   "cell_type": "code",
   "execution_count": 18,
   "id": "fb21de08",
   "metadata": {},
   "outputs": [
    {
     "name": "stdout",
     "output_type": "stream",
     "text": [
      "CPU times: total: 0 ns\n",
      "Wall time: 999 µs\n"
     ]
    }
   ],
   "source": [
    "%%time\n",
    "starTime = Fis.reset_index()"
   ]
  },
  {
   "cell_type": "code",
   "execution_count": 4,
   "id": "f8deefd2",
   "metadata": {},
   "outputs": [],
   "source": [
    "starTime"
   ]
  },
  {
   "cell_type": "code",
   "execution_count": 20,
   "id": "b3ad2588",
   "metadata": {},
   "outputs": [],
   "source": [
    "batch1 = S6.merge(starTime, on='tid', how='left')"
   ]
  },
  {
   "cell_type": "markdown",
   "id": "6294d9e6",
   "metadata": {},
   "source": [
    "#### Identifying Origins"
   ]
  },
  {
   "cell_type": "code",
   "execution_count": 21,
   "id": "15cd4bd7",
   "metadata": {},
   "outputs": [],
   "source": [
    "orig  = S4.groupby('tid')['lat','lng'].first()"
   ]
  },
  {
   "cell_type": "code",
   "execution_count": 22,
   "id": "5fb463e1",
   "metadata": {},
   "outputs": [],
   "source": [
    "orig['origin'] = orig.apply(lambda row: [row['lat'], row['lng']], axis= 1)"
   ]
  },
  {
   "cell_type": "markdown",
   "id": "da55ed70",
   "metadata": {},
   "source": [
    "#### Identifying Destinations"
   ]
  },
  {
   "cell_type": "code",
   "execution_count": 23,
   "id": "f2137c57",
   "metadata": {},
   "outputs": [],
   "source": [
    "dest  = S4.groupby('tid')['lat','lng'].last()"
   ]
  },
  {
   "cell_type": "code",
   "execution_count": 24,
   "id": "4f4b4ea7",
   "metadata": {},
   "outputs": [],
   "source": [
    "dest['dest'] = dest.apply(lambda row: [row['lat'], row['lng']], axis= 1)"
   ]
  },
  {
   "cell_type": "code",
   "execution_count": 25,
   "id": "59b327ba",
   "metadata": {},
   "outputs": [],
   "source": [
    "batch2 = batch1.merge(orig, on='tid', how='left')"
   ]
  },
  {
   "cell_type": "code",
   "execution_count": 27,
   "id": "bb43b45a",
   "metadata": {},
   "outputs": [],
   "source": [
    "b = batch2.merge(dest, on='tid', how='left')"
   ]
  },
  {
   "cell_type": "code",
   "execution_count": 29,
   "id": "7dc015c0",
   "metadata": {},
   "outputs": [],
   "source": [
    "b.drop(['lat_x','lng_x','lat_y','lng_y'], axis=1, inplace=True)"
   ]
  },
  {
   "cell_type": "markdown",
   "id": "81c3778d",
   "metadata": {},
   "source": [
    "## 2. Stop detection"
   ]
  },
  {
   "cell_type": "markdown",
   "id": "76413202",
   "metadata": {},
   "source": [
    "- Detect stops "
   ]
  },
  {
   "cell_type": "code",
   "execution_count": 5,
   "id": "33efe34b",
   "metadata": {},
   "outputs": [
    {
     "name": "stdout",
     "output_type": "stream",
     "text": [
      "CPU times: total: 0 ns\n",
      "Wall time: 0 ns\n"
     ]
    }
   ],
   "source": [
    "%%time\n",
    "Ma = detection.stay_locations(SL, stop_radius_factor=0.2, minutes_for_a_stop=1.0, leaving_time = (True), spatial_radius_km=0.2)\n",
    "Ma.groupby('tid')\n",
    "Ma.head(3)"
   ]
  },
  {
   "cell_type": "markdown",
   "id": "f59750a5",
   "metadata": {},
   "source": [
    "Stop Detection - Wall time: 19min 15s"
   ]
  },
  {
   "cell_type": "markdown",
   "id": "4beade2b",
   "metadata": {},
   "source": [
    "#### Calculate Stopping Time"
   ]
  },
  {
   "cell_type": "markdown",
   "id": "fdbe0f31",
   "metadata": {},
   "source": [
    "In minutes -- .dt. is a datetime function"
   ]
  },
  {
   "cell_type": "code",
   "execution_count": 6,
   "id": "d677326c",
   "metadata": {},
   "outputs": [
    {
     "name": "stdout",
     "output_type": "stream",
     "text": [
      "CPU times: total: 0 ns\n",
      "Wall time: 0 ns\n"
     ]
    }
   ],
   "source": [
    "%%time\n",
    "Ma['StopTime']  = (Ma['leaving_datetime'] - Ma['datetime']).dt.total_seconds()/60\n",
    "Ma.head(3)"
   ]
  },
  {
   "cell_type": "code",
   "execution_count": 33,
   "id": "f53e7905",
   "metadata": {
    "scrolled": true
   },
   "outputs": [],
   "source": [
    "stopT = Ma.groupby('tid')['StopTime'].sum()"
   ]
  },
  {
   "cell_type": "code",
   "execution_count": 35,
   "id": "ebe58a22",
   "metadata": {},
   "outputs": [],
   "source": [
    "c = b.merge(stopT, on='tid', how='left')"
   ]
  },
  {
   "cell_type": "markdown",
   "id": "1637bec2",
   "metadata": {},
   "source": [
    "## 3. Travel Time Duration\n"
   ]
  },
  {
   "cell_type": "markdown",
   "id": "bd2d9ae3",
   "metadata": {},
   "source": [
    "Time Intervals calculation in minutes"
   ]
  },
  {
   "cell_type": "code",
   "execution_count": 37,
   "id": "c8af16d8",
   "metadata": {},
   "outputs": [
    {
     "name": "stdout",
     "output_type": "stream",
     "text": [
      "CPU times: total: 5.38 s\n",
      "Wall time: 5.38 s\n"
     ]
    }
   ],
   "source": [
    "%%time\n",
    "S4['Traveltime'] = (S4['datetime'] - S4.groupby('tid')['datetime'].shift()).dt.total_seconds()/60\n",
    "S4.fillna(0, inplace=True)"
   ]
  },
  {
   "cell_type": "markdown",
   "id": "a9ff5d5c",
   "metadata": {},
   "source": [
    "Travel Time - Wall time: 8.03 s"
   ]
  },
  {
   "cell_type": "code",
   "execution_count": 38,
   "id": "8b8260e9",
   "metadata": {},
   "outputs": [],
   "source": [
    "T = S4.groupby('tid')['Traveltime'].sum()"
   ]
  },
  {
   "cell_type": "code",
   "execution_count": 40,
   "id": "fb77a9b7",
   "metadata": {},
   "outputs": [],
   "source": [
    "d = c.merge(T, on='tid', how='left')"
   ]
  },
  {
   "cell_type": "markdown",
   "id": "06b3b458",
   "metadata": {},
   "source": [
    "## 4. Number of Turns\n"
   ]
  },
  {
   "cell_type": "markdown",
   "id": "eae192e1",
   "metadata": {},
   "source": [
    "1. For each tid, calculate the number of turns by comparing the bearing(direction) at each GPS recording to the heading of the previous GPS recording. if the difference is greater that the assinged threshold (e.g. 50 degrees) it is considered a turn. \n",
    "\n",
    "\n",
    "2. Use the .apply() method to apply the function to each group that calculates number of turns. "
   ]
  },
  {
   "cell_type": "markdown",
   "id": "236b3721",
   "metadata": {},
   "source": [
    "Sum of turns between two points surpassing 50 degrees in either direction, *with more turns indicative of higher perceived cognitive distance.* <font color = green> (Sadalla, E.K. & Magel, S.G. 1980) The perception of traversed distance </font>"
   ]
  },
  {
   "cell_type": "markdown",
   "id": "396330ef",
   "metadata": {},
   "source": [
    "*SL = Scikit-Mobility dataframe created above.*"
   ]
  },
  {
   "cell_type": "code",
   "execution_count": 42,
   "id": "90ed4d1c",
   "metadata": {},
   "outputs": [],
   "source": [
    "def calc_num_turns(SL):\n",
    "    num_turns = 0\n",
    "    prev_bearing = SL[\"vehicledirection\"].iloc[0]\n",
    "    for i in range(1, len(SL)):\n",
    "        curr_bearing = SL[\"vehicledirection\"].iloc[i]\n",
    "        if abs(curr_bearing - prev_bearing) > 50:\n",
    "            num_turns += 1\n",
    "        prev_bearing = curr_bearing\n",
    "    return num_turns"
   ]
  },
  {
   "cell_type": "markdown",
   "id": "dbcc8c52",
   "metadata": {},
   "source": [
    "Group the dataframe by trip_id and apply the calc_num_turns function to each group"
   ]
  },
  {
   "cell_type": "code",
   "execution_count": 43,
   "id": "3dd8e219",
   "metadata": {},
   "outputs": [
    {
     "name": "stdout",
     "output_type": "stream",
     "text": [
      "CPU times: total: 5min 3s\n",
      "Wall time: 5min 4s\n"
     ]
    },
    {
     "data": {
      "text/plain": [
       "tid\n",
       "1740413     2\n",
       "1740414    11\n",
       "1740415    16\n",
       "1740416    43\n",
       "1740417    25\n",
       "dtype: int64"
      ]
     },
     "execution_count": 43,
     "metadata": {},
     "output_type": "execute_result"
    }
   ],
   "source": [
    "%%time\n",
    "df_turns = SL.groupby('tid').apply(calc_num_turns)\n",
    "df_turns.head()"
   ]
  },
  {
   "cell_type": "markdown",
   "id": "91cf2de2",
   "metadata": {},
   "source": [
    "Number of Turns - Wall time: 7min 24s"
   ]
  },
  {
   "cell_type": "code",
   "execution_count": 44,
   "id": "346a6f5d",
   "metadata": {},
   "outputs": [
    {
     "data": {
      "text/html": [
       "<div>\n",
       "<style scoped>\n",
       "    .dataframe tbody tr th:only-of-type {\n",
       "        vertical-align: middle;\n",
       "    }\n",
       "\n",
       "    .dataframe tbody tr th {\n",
       "        vertical-align: top;\n",
       "    }\n",
       "\n",
       "    .dataframe thead th {\n",
       "        text-align: right;\n",
       "    }\n",
       "</style>\n",
       "<table border=\"1\" class=\"dataframe\">\n",
       "  <thead>\n",
       "    <tr style=\"text-align: right;\">\n",
       "      <th></th>\n",
       "      <th>tid</th>\n",
       "      <th>num_of_turns</th>\n",
       "    </tr>\n",
       "  </thead>\n",
       "  <tbody>\n",
       "    <tr>\n",
       "      <th>0</th>\n",
       "      <td>1740413</td>\n",
       "      <td>2</td>\n",
       "    </tr>\n",
       "    <tr>\n",
       "      <th>1</th>\n",
       "      <td>1740414</td>\n",
       "      <td>11</td>\n",
       "    </tr>\n",
       "    <tr>\n",
       "      <th>2</th>\n",
       "      <td>1740415</td>\n",
       "      <td>16</td>\n",
       "    </tr>\n",
       "    <tr>\n",
       "      <th>3</th>\n",
       "      <td>1740416</td>\n",
       "      <td>43</td>\n",
       "    </tr>\n",
       "    <tr>\n",
       "      <th>4</th>\n",
       "      <td>1740417</td>\n",
       "      <td>25</td>\n",
       "    </tr>\n",
       "  </tbody>\n",
       "</table>\n",
       "</div>"
      ],
      "text/plain": [
       "       tid  num_of_turns\n",
       "0  1740413             2\n",
       "1  1740414            11\n",
       "2  1740415            16\n",
       "3  1740416            43\n",
       "4  1740417            25"
      ]
     },
     "execution_count": 44,
     "metadata": {},
     "output_type": "execute_result"
    }
   ],
   "source": [
    "df_turns = df_turns.reset_index()\n",
    "df_turns = df_turns.rename(columns={ 0:'num_of_turns'})\n",
    "df_turns.head()"
   ]
  },
  {
   "cell_type": "code",
   "execution_count": 45,
   "id": "44768253",
   "metadata": {},
   "outputs": [],
   "source": [
    "e = d.merge(df_turns, on='tid', how='left')"
   ]
  },
  {
   "cell_type": "markdown",
   "id": "0f746713",
   "metadata": {},
   "source": [
    "## 5. Cumulative Angular Deviation"
   ]
  },
  {
   "cell_type": "markdown",
   "id": "59ee4717",
   "metadata": {},
   "source": [
    "- calculate the change in bearing at each point in the series (Subtract bearing a one point from the next), similar method to finding time traveled between points.\n",
    "\n",
    "- convert these changes to within a range of -180 to 180 degrees standardizing changes. If bearing recording is greater than 180 it means the car has turned in the opposite direction.\n",
    "\n",
    "\n",
    "I begun to notice that there were 'Nan' values in the dataset and thought it was affecting the angular deviation calculation so I wanted to find the first position of all tid's and begin the subtraction process from there \n",
    "\n",
    "\n",
    "- add all absolute anglular deviations to arrive at cumulative angular deviation"
   ]
  },
  {
   "cell_type": "code",
   "execution_count": 7,
   "id": "df7a0417",
   "metadata": {
    "scrolled": false
   },
   "outputs": [
    {
     "name": "stdout",
     "output_type": "stream",
     "text": [
      "CPU times: total: 0 ns\n",
      "Wall time: 0 ns\n"
     ]
    }
   ],
   "source": [
    "%%time\n",
    "SL[\"bearing_change\"] = SL[\"vehicledirection\"] - SL.groupby(\"tid\")[\"vehicledirection\"].shift()\n",
    "SL.head()"
   ]
  },
  {
   "cell_type": "markdown",
   "id": "f62cf8b9",
   "metadata": {},
   "source": [
    "*Maybe I shouldn't have used a forward fill and just set the fill value to zero ? Not sure*"
   ]
  },
  {
   "cell_type": "code",
   "execution_count": 48,
   "id": "ff03d479",
   "metadata": {},
   "outputs": [],
   "source": [
    "SL[\"bearing_change\"].fillna(method=\"ffill\", inplace=True)"
   ]
  },
  {
   "cell_type": "code",
   "execution_count": 49,
   "id": "fb9cb748",
   "metadata": {},
   "outputs": [],
   "source": [
    "adjusted_deviation = lambda x: x+360 if x < -180 else x-360 if x > 180 else x"
   ]
  },
  {
   "cell_type": "code",
   "execution_count": 50,
   "id": "7742a7be",
   "metadata": {},
   "outputs": [
    {
     "name": "stdout",
     "output_type": "stream",
     "text": [
      "CPU times: total: 5.61 s\n",
      "Wall time: 5.62 s\n"
     ]
    }
   ],
   "source": [
    "%%time\n",
    "SL[\"bearing_change\"] = SL[\"bearing_change\"].apply(adjusted_deviation)"
   ]
  },
  {
   "cell_type": "markdown",
   "id": "cecc127c",
   "metadata": {},
   "source": [
    "Cumulative Angular Deviation - Wall time: 8 s"
   ]
  },
  {
   "cell_type": "markdown",
   "id": "9b482953",
   "metadata": {},
   "source": [
    "To calculate Cumulative Angular deviation, make values absolute *(this finds the change in bearing irrespective of the direction of change)* ands add them. "
   ]
  },
  {
   "cell_type": "code",
   "execution_count": 51,
   "id": "213c6feb",
   "metadata": {},
   "outputs": [],
   "source": [
    "SL[\"abs_bearing_change\"] = abs(SL[\"bearing_change\"])"
   ]
  },
  {
   "cell_type": "code",
   "execution_count": 52,
   "id": "9624e152",
   "metadata": {},
   "outputs": [],
   "source": [
    "angular_dev = SL.groupby(\"tid\")[\"abs_bearing_change\"].sum()"
   ]
  },
  {
   "cell_type": "code",
   "execution_count": 53,
   "id": "eb9147eb",
   "metadata": {},
   "outputs": [],
   "source": [
    "cum_angular_dev = angular_dev.reset_index()"
   ]
  },
  {
   "cell_type": "code",
   "execution_count": 55,
   "id": "4a1009d4",
   "metadata": {},
   "outputs": [],
   "source": [
    "g= e.merge(cum_angular_dev, on='tid', how='left')"
   ]
  },
  {
   "cell_type": "code",
   "execution_count": 57,
   "id": "8939f674",
   "metadata": {},
   "outputs": [],
   "source": [
    "nextone = g[['tid','origin','dest','distance_straight_line','datetime','Traveltime','StopTime','num_of_turns','abs_bearing_change']]"
   ]
  },
  {
   "cell_type": "code",
   "execution_count": 60,
   "id": "02bfabd6",
   "metadata": {},
   "outputs": [],
   "source": [
    "nextone.to_parquet(\"thirteenthbatch.parquet\")"
   ]
  },
  {
   "cell_type": "markdown",
   "id": "418b7c87",
   "metadata": {},
   "source": [
    "#### Combine all results into single dataframe of individual journeys,<font color = 'red'> then move on to step 6 & 7 </font>"
   ]
  },
  {
   "cell_type": "code",
   "execution_count": null,
   "id": "3a4aa371",
   "metadata": {},
   "outputs": [],
   "source": [
    "batch1 = pd.read_parquet('Firstbatch.parquet')\n",
    "batch1"
   ]
  },
  {
   "cell_type": "code",
   "execution_count": null,
   "id": "a623a224",
   "metadata": {
    "scrolled": false
   },
   "outputs": [],
   "source": [
    "batch2 = pd.read_parquet('secondbatch.parquet')\n",
    "batch2"
   ]
  },
  {
   "cell_type": "code",
   "execution_count": null,
   "id": "3043f99a",
   "metadata": {
    "scrolled": false
   },
   "outputs": [],
   "source": [
    "batch3 = pd.read_parquet('thirdbatch.parquet')\n",
    "batch3"
   ]
  },
  {
   "cell_type": "code",
   "execution_count": null,
   "id": "b207dd79",
   "metadata": {},
   "outputs": [],
   "source": [
    "batch4 = pd.read_parquet('fourthbatch.parquet')\n",
    "batch4"
   ]
  },
  {
   "cell_type": "code",
   "execution_count": 64,
   "id": "21873b9e",
   "metadata": {},
   "outputs": [],
   "source": [
    "batch5 = pd.read_parquet(\"fifthbatch.parquet\")\n",
    "batch5"
   ]
  },
  {
   "cell_type": "code",
   "execution_count": 66,
   "id": "99729122",
   "metadata": {},
   "outputs": [],
   "source": [
    "batch6 = pd.read_parquet(\"sixthbatch.parquet\")\n",
    "batch6"
   ]
  },
  {
   "cell_type": "code",
   "execution_count": 60,
   "id": "d50c4dd4",
   "metadata": {},
   "outputs": [],
   "source": [
    "batch7 = pd.read_parquet(\"seventhbatch.parquet\")\n",
    "#batch7"
   ]
  },
  {
   "cell_type": "code",
   "execution_count": 63,
   "id": "358f1d46",
   "metadata": {},
   "outputs": [],
   "source": [
    "batch8 = pd.read_parquet(\"eightbatch.parquet\")\n",
    "#batch8"
   ]
  },
  {
   "cell_type": "code",
   "execution_count": 61,
   "id": "161c90c8",
   "metadata": {},
   "outputs": [],
   "source": [
    "batch9 = pd.read_parquet(\"ninthbatch.parquet\")\n",
    "#batch9"
   ]
  },
  {
   "cell_type": "code",
   "execution_count": 60,
   "id": "16a14afc",
   "metadata": {},
   "outputs": [],
   "source": [
    "batch10 = pd.read_parquet(\"tenthbatch.parquet\")\n",
    "#batch10"
   ]
  },
  {
   "cell_type": "code",
   "execution_count": 60,
   "id": "39ab0414",
   "metadata": {},
   "outputs": [],
   "source": [
    "batch11 = pd.read_parquet(\"eleventhbatch.parquet\")\n",
    "batch11"
   ]
  },
  {
   "cell_type": "code",
   "execution_count": 61,
   "id": "093a6faa",
   "metadata": {},
   "outputs": [],
   "source": [
    "batch12 = pd.read_parquet(\"twelfthbatch.parquet\")\n",
    "batch12"
   ]
  },
  {
   "cell_type": "code",
   "execution_count": 158,
   "id": "9bd47f10",
   "metadata": {},
   "outputs": [],
   "source": [
    "batch13 = pd.read_parquet(\"thirteenthbatch.parquet\")\n",
    "batch13"
   ]
  },
  {
   "cell_type": "markdown",
   "id": "04adde55",
   "metadata": {},
   "source": [
    "## Summary Statistics Dataframe"
   ]
  },
  {
   "cell_type": "code",
   "execution_count": 66,
   "id": "c3e1b1e2",
   "metadata": {},
   "outputs": [
    {
     "data": {
      "text/plain": [
       "(1830811, 9)"
      ]
     },
     "execution_count": 66,
     "metadata": {},
     "output_type": "execute_result"
    }
   ],
   "source": [
    "ukmain1.shape"
   ]
  },
  {
   "cell_type": "code",
   "execution_count": 147,
   "id": "0da9852f",
   "metadata": {},
   "outputs": [],
   "source": [
    "ukmain1.to_parquet(\"Ukmaindata1.parquet\")"
   ]
  },
  {
   "cell_type": "markdown",
   "id": "6936f0db",
   "metadata": {},
   "source": [
    "## 6. Calculating straight line distance (origin and destination) through dataframe\n",
    "\n",
    "\n",
    "1. Function to obtain straight line distance of origin to destination using <font color='green'>osmnx distance.great_circle_vec function</font>"
   ]
  },
  {
   "cell_type": "code",
   "execution_count": 73,
   "id": "264ecade",
   "metadata": {},
   "outputs": [
    {
     "name": "stdout",
     "output_type": "stream",
     "text": [
      "CPU times: total: 0 ns\n",
      "Wall time: 0 ns\n"
     ]
    }
   ],
   "source": [
    "%%time\n",
    "\n",
    "def calculate_distance(ukmain1):\n",
    "    distance_list = []\n",
    "    for i, row in ukmain1.iterrows():\n",
    "        # loop through dataframe\n",
    "        lat1 = row['origin'][0] \n",
    "        lng1 = row['origin'][1]\n",
    "        lat2 = row['dest'][0] \n",
    "        lng2 = row['dest'][1]\n",
    "\n",
    "        #find Straight Line Distance\n",
    "\n",
    "        distance_list.append(ox.distance.great_circle_vec(lat1,lng1,lat2,lng2,earth_radius=6371009))       \n",
    "    return distance_list"
   ]
  },
  {
   "cell_type": "code",
   "execution_count": 74,
   "id": "64a9b214",
   "metadata": {},
   "outputs": [
    {
     "name": "stdout",
     "output_type": "stream",
     "text": [
      "CPU times: total: 2min 24s\n",
      "Wall time: 2min 24s\n"
     ]
    }
   ],
   "source": [
    "%%time\n",
    "ukmain1['shortestPath_dist'] = calculate_distance(ukmain1)"
   ]
  },
  {
   "cell_type": "code",
   "execution_count": 75,
   "id": "204d482a",
   "metadata": {},
   "outputs": [],
   "source": [
    "kilometer = lambda x: x/1000"
   ]
  },
  {
   "cell_type": "code",
   "execution_count": 76,
   "id": "18819deb",
   "metadata": {},
   "outputs": [
    {
     "name": "stdout",
     "output_type": "stream",
     "text": [
      "CPU times: total: 375 ms\n",
      "Wall time: 381 ms\n"
     ]
    }
   ],
   "source": [
    "%%time\n",
    "ukmain1['shortestPath_dist'] = ukmain1['shortestPath_dist'].apply(kilometer)"
   ]
  },
  {
   "cell_type": "markdown",
   "id": "21fd3beb",
   "metadata": {},
   "source": [
    "## 7. Calculating Sinuosity through dataframe"
   ]
  },
  {
   "cell_type": "code",
   "execution_count": 4,
   "id": "b98b088c",
   "metadata": {},
   "outputs": [
    {
     "name": "stdout",
     "output_type": "stream",
     "text": [
      "CPU times: total: 0 ns\n",
      "Wall time: 0 ns\n"
     ]
    }
   ],
   "source": [
    "%%time \n",
    "\n",
    "def sinuosity(ukmain1):\n",
    "    sinu_list = []\n",
    "    for i, row in ukmain1.iterrows():\n",
    "        if row['shortestPath_dist'] < 0.1:\n",
    "            sinu = 0\n",
    "        else:\n",
    "            sinu = row['distance_straight_line']/row['shortestPath_dist']\n",
    "    \n",
    "    #find sinuosity  \n",
    "        sinu_list.append(sinu)\n",
    "    return sinu_list"
   ]
  },
  {
   "cell_type": "code",
   "execution_count": 5,
   "id": "7229a831",
   "metadata": {},
   "outputs": [
    {
     "name": "stdout",
     "output_type": "stream",
     "text": [
      "CPU times: total: 1min 40s\n",
      "Wall time: 1min 40s\n"
     ]
    }
   ],
   "source": [
    "%%time\n",
    "ukmain1['sinuosity'] = sinuosity(ukmain1)"
   ]
  },
  {
   "cell_type": "code",
   "execution_count": 9,
   "id": "0b685537",
   "metadata": {},
   "outputs": [],
   "source": [
    "ukmain1['StopTime'].fillna(0, inplace=True)"
   ]
  },
  {
   "cell_type": "code",
   "execution_count": 7,
   "id": "c6265c8f",
   "metadata": {},
   "outputs": [],
   "source": [
    "uk1.to_parquet(r\"N:\\Code Routing Behaviour\\Ukmaindata1.parquet\")"
   ]
  },
  {
   "cell_type": "markdown",
   "id": "bd936658",
   "metadata": {},
   "source": [
    "                                                     SPLIT - New Notebook"
   ]
  }
 ],
 "metadata": {
  "kernelspec": {
   "display_name": "DataScience",
   "language": "python",
   "name": "datascience"
  },
  "language_info": {
   "codemirror_mode": {
    "name": "ipython",
    "version": 3
   },
   "file_extension": ".py",
   "mimetype": "text/x-python",
   "name": "python",
   "nbconvert_exporter": "python",
   "pygments_lexer": "ipython3",
   "version": "3.10.6"
  }
 },
 "nbformat": 4,
 "nbformat_minor": 5
}
